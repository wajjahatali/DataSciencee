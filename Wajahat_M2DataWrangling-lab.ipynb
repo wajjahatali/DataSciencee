{
 "cells": [
  {
   "cell_type": "markdown",
   "metadata": {},
   "source": [
    "<p style=\"text-align:center\">\n",
    "    <a href=\"https://skills.network/?utm_medium=Exinfluencer&utm_source=Exinfluencer&utm_content=000026UJ&utm_term=10006555&utm_id=NA-SkillsNetwork-Channel-SkillsNetworkCoursesIBMDA0321ENSkillsNetwork928-2022-01-01\" target=\"_blank\">\n",
    "    <img src=\"https://cf-courses-data.s3.us.cloud-object-storage.appdomain.cloud/assets/logos/SN_web_lightmode.png\" width=\"200\" alt=\"Skills Network Logo\"  />\n",
    "    </a>\n",
    "</p>\n"
   ]
  },
  {
   "cell_type": "markdown",
   "metadata": {},
   "source": [
    "# **Data Wrangling Lab**\n"
   ]
  },
  {
   "cell_type": "markdown",
   "metadata": {},
   "source": [
    "Estimated time needed: **45 to 60** minutes\n"
   ]
  },
  {
   "cell_type": "markdown",
   "metadata": {},
   "source": [
    "In this assignment you will be performing data wrangling.\n"
   ]
  },
  {
   "cell_type": "markdown",
   "metadata": {},
   "source": [
    "## Objectives\n"
   ]
  },
  {
   "cell_type": "markdown",
   "metadata": {},
   "source": [
    "In this lab you will perform the following:\n"
   ]
  },
  {
   "cell_type": "markdown",
   "metadata": {},
   "source": [
    "-   Identify duplicate values in the dataset.\n",
    "\n",
    "-   Remove duplicate values from the dataset.\n",
    "\n",
    "-   Identify missing values in the dataset.\n",
    "\n",
    "-   Impute the missing values in the dataset.\n",
    "\n",
    "-   Normalize data in the dataset.\n"
   ]
  },
  {
   "cell_type": "markdown",
   "metadata": {},
   "source": [
    "<hr>\n"
   ]
  },
  {
   "cell_type": "markdown",
   "metadata": {},
   "source": [
    "## Hands on Lab\n"
   ]
  },
  {
   "cell_type": "markdown",
   "metadata": {},
   "source": [
    "Import pandas module.\n"
   ]
  },
  {
   "cell_type": "code",
   "execution_count": 1,
   "metadata": {},
   "outputs": [],
   "source": [
    "import pandas as pd"
   ]
  },
  {
   "cell_type": "markdown",
   "metadata": {},
   "source": [
    "Load the dataset into a dataframe.\n"
   ]
  },
  {
   "cell_type": "code",
   "execution_count": 2,
   "metadata": {},
   "outputs": [],
   "source": [
    "df = pd.read_csv(\"https://cf-courses-data.s3.us.cloud-object-storage.appdomain.cloud/IBM-DA0321EN-SkillsNetwork/LargeData/m1_survey_data.csv\")"
   ]
  },
  {
   "cell_type": "markdown",
   "metadata": {},
   "source": [
    "## Finding duplicates\n"
   ]
  },
  {
   "cell_type": "markdown",
   "metadata": {},
   "source": [
    "In this section you will identify duplicate values in the dataset.\n"
   ]
  },
  {
   "cell_type": "markdown",
   "metadata": {},
   "source": [
    " Find how many duplicate rows exist in the dataframe.\n"
   ]
  },
  {
   "cell_type": "code",
   "execution_count": 18,
   "metadata": {},
   "outputs": [
    {
     "name": "stdout",
     "output_type": "stream",
     "text": [
      "Duplicates: [1, 3, 4]\n"
     ]
    }
   ],
   "source": [
    "def find_duplicates(lst):\n",
    "    duplicates = []\n",
    "    seen = set()\n",
    "\n",
    "    for item in lst:\n",
    "        if item in seen and item not in duplicates:\n",
    "            duplicates.append(item)\n",
    "        else:\n",
    "            seen.add(item)\n",
    "\n",
    "    return duplicates\n",
    "\n",
    "# Example usage:\n",
    "my_list = [1, 2, 3, 4, 1, 5, 3, 6, 7, 8, 4]\n",
    "result = find_duplicates(my_list)\n",
    "print(\"Duplicates:\", result)\n"
   ]
  },
  {
   "cell_type": "markdown",
   "metadata": {},
   "source": [
    "## Removing duplicates\n"
   ]
  },
  {
   "cell_type": "markdown",
   "metadata": {},
   "source": [
    "Remove the duplicate rows from the dataframe.\n"
   ]
  },
  {
   "cell_type": "code",
   "execution_count": 19,
   "metadata": {},
   "outputs": [
    {
     "name": "stdout",
     "output_type": "stream",
     "text": [
      "DataFrame without duplicates:\n",
      "       Respondent                      MainBranch Hobbyist  \\\n",
      "0               4  I am a developer by profession       No   \n",
      "1               9  I am a developer by profession      Yes   \n",
      "2              13  I am a developer by profession      Yes   \n",
      "3              16  I am a developer by profession      Yes   \n",
      "4              17  I am a developer by profession      Yes   \n",
      "...           ...                             ...      ...   \n",
      "11547       25136  I am a developer by profession      Yes   \n",
      "11548       25137  I am a developer by profession      Yes   \n",
      "11549       25138  I am a developer by profession      Yes   \n",
      "11550       25141  I am a developer by profession      Yes   \n",
      "11551       25142  I am a developer by profession      Yes   \n",
      "\n",
      "                                             OpenSourcer  \\\n",
      "0                                                  Never   \n",
      "1                             Once a month or more often   \n",
      "2      Less than once a month but more than once per ...   \n",
      "3                                                  Never   \n",
      "4      Less than once a month but more than once per ...   \n",
      "...                                                  ...   \n",
      "11547                                              Never   \n",
      "11548                                              Never   \n",
      "11549                            Less than once per year   \n",
      "11550  Less than once a month but more than once per ...   \n",
      "11551  Less than once a month but more than once per ...   \n",
      "\n",
      "                                              OpenSource          Employment  \\\n",
      "0      The quality of OSS and closed source software ...  Employed full-time   \n",
      "1      The quality of OSS and closed source software ...  Employed full-time   \n",
      "2      OSS is, on average, of HIGHER quality than pro...  Employed full-time   \n",
      "3      The quality of OSS and closed source software ...  Employed full-time   \n",
      "4      The quality of OSS and closed source software ...  Employed full-time   \n",
      "...                                                  ...                 ...   \n",
      "11547  OSS is, on average, of HIGHER quality than pro...  Employed full-time   \n",
      "11548  The quality of OSS and closed source software ...  Employed full-time   \n",
      "11549  The quality of OSS and closed source software ...  Employed full-time   \n",
      "11550  OSS is, on average, of LOWER quality than prop...  Employed full-time   \n",
      "11551  OSS is, on average, of HIGHER quality than pro...  Employed full-time   \n",
      "\n",
      "              Country Student  \\\n",
      "0       United States      No   \n",
      "1         New Zealand      No   \n",
      "2       United States      No   \n",
      "3      United Kingdom      No   \n",
      "4           Australia      No   \n",
      "...               ...     ...   \n",
      "11547   United States      No   \n",
      "11548          Poland      No   \n",
      "11549   United States      No   \n",
      "11550     Switzerland      No   \n",
      "11551  United Kingdom      No   \n",
      "\n",
      "                                                 EdLevel  \\\n",
      "0               Bachelor’s degree (BA, BS, B.Eng., etc.)   \n",
      "1      Some college/university study without earning ...   \n",
      "2            Master’s degree (MA, MS, M.Eng., MBA, etc.)   \n",
      "3            Master’s degree (MA, MS, M.Eng., MBA, etc.)   \n",
      "4               Bachelor’s degree (BA, BS, B.Eng., etc.)   \n",
      "...                                                  ...   \n",
      "11547        Master’s degree (MA, MS, M.Eng., MBA, etc.)   \n",
      "11548        Master’s degree (MA, MS, M.Eng., MBA, etc.)   \n",
      "11549        Master’s degree (MA, MS, M.Eng., MBA, etc.)   \n",
      "11550  Secondary school (e.g. American high school, G...   \n",
      "11551          Other doctoral degree (Ph.D, Ed.D., etc.)   \n",
      "\n",
      "                                          UndergradMajor  ...  \\\n",
      "0      Computer science, computer engineering, or sof...  ...   \n",
      "1      Computer science, computer engineering, or sof...  ...   \n",
      "2      Computer science, computer engineering, or sof...  ...   \n",
      "3                                                    NaN  ...   \n",
      "4      Computer science, computer engineering, or sof...  ...   \n",
      "...                                                  ...  ...   \n",
      "11547  Computer science, computer engineering, or sof...  ...   \n",
      "11548  Computer science, computer engineering, or sof...  ...   \n",
      "11549  Computer science, computer engineering, or sof...  ...   \n",
      "11550                                                NaN  ...   \n",
      "11551  A natural science (ex. biology, chemistry, phy...  ...   \n",
      "\n",
      "                                  WelcomeChange  \\\n",
      "0       Just as welcome now as I felt last year   \n",
      "1       Just as welcome now as I felt last year   \n",
      "2      Somewhat more welcome now than last year   \n",
      "3       Just as welcome now as I felt last year   \n",
      "4       Just as welcome now as I felt last year   \n",
      "...                                         ...   \n",
      "11547   Just as welcome now as I felt last year   \n",
      "11548     A lot more welcome now than last year   \n",
      "11549     A lot more welcome now than last year   \n",
      "11550  Somewhat less welcome now than last year   \n",
      "11551   Just as welcome now as I felt last year   \n",
      "\n",
      "                                            SONewContent   Age Gender Trans  \\\n",
      "0      Tech articles written by other developers;Indu...  22.0    Man    No   \n",
      "1                                                    NaN  23.0    Man    No   \n",
      "2      Tech articles written by other developers;Cour...  28.0    Man    No   \n",
      "3      Tech articles written by other developers;Indu...  26.0    Man    No   \n",
      "4      Tech articles written by other developers;Indu...  29.0    Man    No   \n",
      "...                                                  ...   ...    ...   ...   \n",
      "11547  Tech articles written by other developers;Cour...  36.0    Man    No   \n",
      "11548  Tech articles written by other developers;Tech...  25.0    Man    No   \n",
      "11549  Tech articles written by other developers;Indu...  34.0    Man    No   \n",
      "11550                                                NaN  25.0    Man    No   \n",
      "11551  Tech articles written by other developers;Tech...  30.0    Man    No   \n",
      "\n",
      "                     Sexuality                              Ethnicity  \\\n",
      "0      Straight / Heterosexual           White or of European descent   \n",
      "1                     Bisexual           White or of European descent   \n",
      "2      Straight / Heterosexual           White or of European descent   \n",
      "3      Straight / Heterosexual           White or of European descent   \n",
      "4      Straight / Heterosexual  Hispanic or Latino/Latina;Multiracial   \n",
      "...                        ...                                    ...   \n",
      "11547  Straight / Heterosexual           White or of European descent   \n",
      "11548  Straight / Heterosexual           White or of European descent   \n",
      "11549  Straight / Heterosexual           White or of European descent   \n",
      "11550  Straight / Heterosexual           White or of European descent   \n",
      "11551                 Bisexual           White or of European descent   \n",
      "\n",
      "      Dependents           SurveyLength                  SurveyEase  \n",
      "0             No  Appropriate in length                        Easy  \n",
      "1             No  Appropriate in length  Neither easy nor difficult  \n",
      "2            Yes  Appropriate in length                        Easy  \n",
      "3             No  Appropriate in length  Neither easy nor difficult  \n",
      "4             No  Appropriate in length                        Easy  \n",
      "...          ...                    ...                         ...  \n",
      "11547         No  Appropriate in length                   Difficult  \n",
      "11548         No  Appropriate in length  Neither easy nor difficult  \n",
      "11549        Yes               Too long                        Easy  \n",
      "11550         No  Appropriate in length                        Easy  \n",
      "11551         No  Appropriate in length                        Easy  \n",
      "\n",
      "[11398 rows x 85 columns]\n"
     ]
    }
   ],
   "source": [
    "df_no_duplicates = df.drop_duplicates()\n",
    "\n",
    "# The 'drop_duplicates' method returns a new DataFrame without duplicates, so you can assign it to a new variable or the same variable if you want to overwrite the original DataFrame.\n",
    "\n",
    "print(\"DataFrame without duplicates:\")\n",
    "print(df_no_duplicates)\n"
   ]
  },
  {
   "cell_type": "markdown",
   "metadata": {},
   "source": [
    "Verify if duplicates were actually dropped.\n"
   ]
  },
  {
   "cell_type": "code",
   "execution_count": 8,
   "metadata": {},
   "outputs": [
    {
     "name": "stdout",
     "output_type": "stream",
     "text": [
      "Duplicates were successfully dropped.\n"
     ]
    }
   ],
   "source": [
    "import pandas as pd\n",
    "\n",
    "# Save the number of rows in the original DataFrame\n",
    "num_rows_original = df.shape[0]\n",
    "\n",
    "# Remove duplicates and keep the first occurrence (default behavior)\n",
    "df_no_duplicates = df.drop_duplicates()\n",
    "\n",
    "# Save the number of rows in the DataFrame after removing duplicates\n",
    "num_rows_no_duplicates = df_no_duplicates.shape[0]\n",
    "\n",
    "# Compare the number of rows\n",
    "if num_rows_no_duplicates < num_rows_original:\n",
    "    print(\"Duplicates were successfully dropped.\")\n",
    "else:\n",
    "    print(\"No duplicates were found, or they were already dropped.\")\n"
   ]
  },
  {
   "cell_type": "markdown",
   "metadata": {},
   "source": [
    "## Finding Missing values\n"
   ]
  },
  {
   "cell_type": "markdown",
   "metadata": {},
   "source": [
    "Find the missing values for all columns.\n"
   ]
  },
  {
   "cell_type": "code",
   "execution_count": 20,
   "metadata": {},
   "outputs": [
    {
     "name": "stdout",
     "output_type": "stream",
     "text": [
      "Missing values count in each column:\n",
      "Respondent        0\n",
      "MainBranch        0\n",
      "Hobbyist          0\n",
      "OpenSourcer       0\n",
      "OpenSource       81\n",
      "               ... \n",
      "Sexuality       547\n",
      "Ethnicity       683\n",
      "Dependents      144\n",
      "SurveyLength     19\n",
      "SurveyEase       14\n",
      "Length: 85, dtype: int64\n"
     ]
    }
   ],
   "source": [
    "import pandas as pd\n",
    "\n",
    "# Assuming you have a DataFrame named 'df' with your dataset\n",
    "# For example:\n",
    "# df = pd.read_csv('your_dataset.csv')\n",
    "\n",
    "# Find missing values in the entire DataFrame\n",
    "missing_values = df.isnull()\n",
    "\n",
    "# Find missing values in specific columns (replace 'column1', 'column2', etc. with the actual column names)\n",
    "# missing_values = df[['column1', 'column2']].isnull()\n",
    "\n",
    "# Get the count of missing values in each column\n",
    "missing_values_count = missing_values.sum()\n",
    "\n",
    "print(\"Missing values count in each column:\")\n",
    "print(missing_values_count)\n"
   ]
  },
  {
   "cell_type": "markdown",
   "metadata": {},
   "source": [
    "Find out how many rows are missing in the column 'WorkLoc'\n"
   ]
  },
  {
   "cell_type": "code",
   "execution_count": 21,
   "metadata": {},
   "outputs": [
    {
     "name": "stdout",
     "output_type": "stream",
     "text": [
      "Number of missing rows in the column 'WorkLoc': 32\n"
     ]
    }
   ],
   "source": [
    "import pandas as pd\n",
    "\n",
    "# Assuming you have a DataFrame named 'df' with your dataset\n",
    "# For example:\n",
    "# df = pd.read_csv('your_dataset.csv')\n",
    "\n",
    "# Replace 'WorkLoc' with the actual name of the column you want to check\n",
    "column_name = 'WorkLoc'\n",
    "\n",
    "# Calculate the number of missing values in the 'WorkLoc' column\n",
    "num_missing_rows = df[column_name].isnull().sum()\n",
    "\n",
    "print(\"Number of missing rows in the column '{}': {}\".format(column_name, num_missing_rows))\n"
   ]
  },
  {
   "cell_type": "markdown",
   "metadata": {},
   "source": [
    "## Imputing missing values\n"
   ]
  },
  {
   "cell_type": "markdown",
   "metadata": {},
   "source": [
    "Find the  value counts for the column WorkLoc.\n"
   ]
  },
  {
   "cell_type": "code",
   "execution_count": 25,
   "metadata": {},
   "outputs": [
    {
     "name": "stdout",
     "output_type": "stream",
     "text": [
      "Value counts for the column 'WorkLoc':\n",
      "Office                                            6905\n",
      "Home                                              3638\n",
      "Other place, such as a coworking space or cafe     977\n",
      "Name: WorkLoc, dtype: int64\n"
     ]
    }
   ],
   "source": [
    "import pandas as pd\n",
    "\n",
    "# Assuming you have a DataFrame named 'df' with your dataset\n",
    "# For example:\n",
    "# df = pd.read_csv('your_dataset.csv')\n",
    "\n",
    "# Replace 'WorkLoc' with the actual name of the column you want to check\n",
    "column_name = 'WorkLoc'\n",
    "\n",
    "# Get the value counts for the 'WorkLoc' column\n",
    "value_counts_workloc = df[column_name].value_counts()\n",
    "\n",
    "print(\"Value counts for the column '{}':\\n{}\".format(column_name, value_counts_workloc))\n"
   ]
  },
  {
   "cell_type": "markdown",
   "metadata": {},
   "source": [
    "Identify the value that is most frequent (majority) in the WorkLoc column.\n"
   ]
  },
  {
   "cell_type": "code",
   "execution_count": 26,
   "metadata": {},
   "outputs": [
    {
     "name": "stdout",
     "output_type": "stream",
     "text": [
      "The value that is most frequent in the column 'WorkLoc': Office\n"
     ]
    }
   ],
   "source": [
    "import pandas as pd\n",
    "\n",
    "# Assuming you have a DataFrame named 'df' with your dataset\n",
    "# For example:\n",
    "# df = pd.read_csv('your_dataset.csv')\n",
    "\n",
    "# Replace 'WorkLoc' with the actual name of the column you want to check\n",
    "column_name = 'WorkLoc'\n",
    "\n",
    "# Get the value counts for the 'WorkLoc' column\n",
    "value_counts_workloc = df[column_name].value_counts()\n",
    "\n",
    "# Identify the most frequent (majority) value\n",
    "most_frequent_value = value_counts_workloc.idxmax()\n",
    "\n",
    "print(\"The value that is most frequent in the column '{}': {}\".format(column_name, most_frequent_value))\n"
   ]
  },
  {
   "cell_type": "markdown",
   "metadata": {},
   "source": [
    "Impute (replace) all the empty rows in the column WorkLoc with the value that you have identified as majority.\n"
   ]
  },
  {
   "cell_type": "code",
   "execution_count": 27,
   "metadata": {},
   "outputs": [
    {
     "name": "stdout",
     "output_type": "stream",
     "text": [
      "Number of missing rows in the column 'WorkLoc' after imputation: 0\n"
     ]
    }
   ],
   "source": [
    "import pandas as pd\n",
    "\n",
    "# Assuming you have a DataFrame named 'df' with your dataset\n",
    "# For example:\n",
    "# df = pd.read_csv('your_dataset.csv')\n",
    "\n",
    "# Replace 'WorkLoc' with the actual name of the column you want to check\n",
    "column_name = 'WorkLoc'\n",
    "\n",
    "# Get the value that is most frequent (majority) in the 'WorkLoc' column\n",
    "most_frequent_value = df[column_name].mode().iloc[0]\n",
    "\n",
    "# Impute (replace) all the empty rows in the 'WorkLoc' column with the most frequent value\n",
    "df[column_name] = df[column_name].fillna(most_frequent_value)\n",
    "\n",
    "# After imputation, you can check if there are any missing values remaining\n",
    "num_missing_rows_after_imputation = df[column_name].isnull().sum()\n",
    "\n",
    "print(\"Number of missing rows in the column 'WorkLoc' after imputation: {}\".format(num_missing_rows_after_imputation))\n"
   ]
  },
  {
   "cell_type": "markdown",
   "metadata": {},
   "source": [
    "After imputation there should ideally not be any empty rows in the WorkLoc column.\n"
   ]
  },
  {
   "cell_type": "markdown",
   "metadata": {},
   "source": [
    "Verify if imputing was successful.\n"
   ]
  },
  {
   "cell_type": "code",
   "execution_count": 28,
   "metadata": {},
   "outputs": [
    {
     "name": "stdout",
     "output_type": "stream",
     "text": [
      "Number of missing rows in the column 'WorkLoc' before imputation: 0\n",
      "Number of missing rows in the column 'WorkLoc' after imputation: 0\n"
     ]
    }
   ],
   "source": [
    "import pandas as pd\n",
    "\n",
    "# Assuming you have a DataFrame named 'df' with your dataset\n",
    "# For example:\n",
    "# df = pd.read_csv('your_dataset.csv')\n",
    "\n",
    "# Replace 'WorkLoc' with the actual name of the column you want to check\n",
    "column_name = 'WorkLoc'\n",
    "\n",
    "# Step 1: Calculate the number of missing values before imputing\n",
    "num_missing_rows_before_imputation = df[column_name].isnull().sum()\n",
    "\n",
    "# Get the value that is most frequent (majority) in the 'WorkLoc' column\n",
    "most_frequent_value = df[column_name].mode().iloc[0]\n",
    "\n",
    "# Step 2: Impute (replace) all the empty rows in the 'WorkLoc' column with the most frequent value\n",
    "df[column_name] = df[column_name].fillna(most_frequent_value)\n",
    "\n",
    "# Step 3: Calculate the number of missing values after imputing\n",
    "num_missing_rows_after_imputation = df[column_name].isnull().sum()\n",
    "\n",
    "# Print the results\n",
    "print(\"Number of missing rows in the column 'WorkLoc' before imputation: {}\".format(num_missing_rows_before_imputation))\n",
    "print(\"Number of missing rows in the column 'WorkLoc' after imputation: {}\".format(num_missing_rows_after_imputation))\n",
    "\n",
    "# Check if imputation was successful\n"
   ]
  },
  {
   "cell_type": "markdown",
   "metadata": {},
   "source": [
    "## Normalizing data\n"
   ]
  },
  {
   "cell_type": "markdown",
   "metadata": {},
   "source": [
    "There are two columns in the dataset that talk about compensation.\n",
    "\n",
    "One is \"CompFreq\". This column shows how often a developer is paid (Yearly, Monthly, Weekly).\n",
    "\n",
    "The other is \"CompTotal\". This column talks about how much the developer is paid per Year, Month, or Week depending upon his/her \"CompFreq\". \n",
    "\n",
    "This makes it difficult to compare the total compensation of the developers.\n",
    "\n",
    "In this section you will create a new column called 'NormalizedAnnualCompensation' which contains the 'Annual Compensation' irrespective of the 'CompFreq'.\n",
    "\n",
    "Once this column is ready, it makes comparison of salaries easy.\n"
   ]
  },
  {
   "cell_type": "markdown",
   "metadata": {},
   "source": [
    "<hr>\n"
   ]
  },
  {
   "cell_type": "markdown",
   "metadata": {},
   "source": [
    "List out the various categories in the column 'CompFreq'\n"
   ]
  },
  {
   "cell_type": "code",
   "execution_count": 39,
   "metadata": {},
   "outputs": [
    {
     "name": "stdout",
     "output_type": "stream",
     "text": [
      "Various categories in the column 'CompFreq':\n",
      "['Yearly' 'Monthly' 'Weekly' nan]\n"
     ]
    }
   ],
   "source": [
    "import pandas as pd\n",
    "\n",
    "# Assuming you have a DataFrame named 'df' with your dataset\n",
    "# For example:\n",
    "# df = pd.read_csv('your_dataset.csv')\n",
    "\n",
    "# Replace 'CompFreq' with the actual name of the column you want to check\n",
    "column_name = 'CompFreq'\n",
    "\n",
    "# Get the unique categories in the 'CompFreq' column\n",
    "categories = df[column_name].unique()\n",
    "\n",
    "print(\"Various categories in the column '{}':\".format(column_name))\n",
    "print(categories)\n"
   ]
  },
  {
   "cell_type": "markdown",
   "metadata": {},
   "source": [
    "Create a new column named 'NormalizedAnnualCompensation'. Use the hint given below if needed.\n"
   ]
  },
  {
   "cell_type": "markdown",
   "metadata": {},
   "source": [
    "Double click to see the **Hint**.\n",
    "\n",
    "<!--\n",
    "\n",
    "Use the below logic to arrive at the values for the column NormalizedAnnualCompensation.\n",
    "\n",
    "If the CompFreq is Yearly then use the exising value in CompTotal\n",
    "If the CompFreq is Monthly then multiply the value in CompTotal with 12 (months in an year)\n",
    "If the CompFreq is Weekly then multiply the value in CompTotal with 52 (weeks in an year)\n",
    "\n",
    "-->\n"
   ]
  },
  {
   "cell_type": "code",
   "execution_count": 34,
   "metadata": {},
   "outputs": [
    {
     "name": "stdout",
     "output_type": "stream",
     "text": [
      "   Respondent                      MainBranch Hobbyist  \\\n",
      "0           4  I am a developer by profession       No   \n",
      "1           9  I am a developer by profession      Yes   \n",
      "2          13  I am a developer by profession      Yes   \n",
      "3          16  I am a developer by profession      Yes   \n",
      "4          17  I am a developer by profession      Yes   \n",
      "\n",
      "                                         OpenSourcer  \\\n",
      "0                                              Never   \n",
      "1                         Once a month or more often   \n",
      "2  Less than once a month but more than once per ...   \n",
      "3                                              Never   \n",
      "4  Less than once a month but more than once per ...   \n",
      "\n",
      "                                          OpenSource          Employment  \\\n",
      "0  The quality of OSS and closed source software ...  Employed full-time   \n",
      "1  The quality of OSS and closed source software ...  Employed full-time   \n",
      "2  OSS is, on average, of HIGHER quality than pro...  Employed full-time   \n",
      "3  The quality of OSS and closed source software ...  Employed full-time   \n",
      "4  The quality of OSS and closed source software ...  Employed full-time   \n",
      "\n",
      "          Country Student                                            EdLevel  \\\n",
      "0   United States      No           Bachelor’s degree (BA, BS, B.Eng., etc.)   \n",
      "1     New Zealand      No  Some college/university study without earning ...   \n",
      "2   United States      No        Master’s degree (MA, MS, M.Eng., MBA, etc.)   \n",
      "3  United Kingdom      No        Master’s degree (MA, MS, M.Eng., MBA, etc.)   \n",
      "4       Australia      No           Bachelor’s degree (BA, BS, B.Eng., etc.)   \n",
      "\n",
      "                                      UndergradMajor  ...  \\\n",
      "0  Computer science, computer engineering, or sof...  ...   \n",
      "1  Computer science, computer engineering, or sof...  ...   \n",
      "2  Computer science, computer engineering, or sof...  ...   \n",
      "3                                                NaN  ...   \n",
      "4  Computer science, computer engineering, or sof...  ...   \n",
      "\n",
      "                                        SONewContent   Age Gender Trans  \\\n",
      "0  Tech articles written by other developers;Indu...  22.0    Man    No   \n",
      "1                                                NaN  23.0    Man    No   \n",
      "2  Tech articles written by other developers;Cour...  28.0    Man    No   \n",
      "3  Tech articles written by other developers;Indu...  26.0    Man    No   \n",
      "4  Tech articles written by other developers;Indu...  29.0    Man    No   \n",
      "\n",
      "                 Sexuality                              Ethnicity Dependents  \\\n",
      "0  Straight / Heterosexual           White or of European descent         No   \n",
      "1                 Bisexual           White or of European descent         No   \n",
      "2  Straight / Heterosexual           White or of European descent        Yes   \n",
      "3  Straight / Heterosexual           White or of European descent         No   \n",
      "4  Straight / Heterosexual  Hispanic or Latino/Latina;Multiracial         No   \n",
      "\n",
      "            SurveyLength                  SurveyEase  \\\n",
      "0  Appropriate in length                        Easy   \n",
      "1  Appropriate in length  Neither easy nor difficult   \n",
      "2  Appropriate in length                        Easy   \n",
      "3  Appropriate in length  Neither easy nor difficult   \n",
      "4  Appropriate in length                        Easy   \n",
      "\n",
      "  NormalizedAnnualCompensation  \n",
      "0                    -0.238979  \n",
      "1                    -0.122846  \n",
      "2                    -0.140443  \n",
      "3                     1.100938  \n",
      "4                    -0.224446  \n",
      "\n",
      "[5 rows x 86 columns]\n"
     ]
    }
   ],
   "source": [
    "import pandas as pd\n",
    "from sklearn.preprocessing import StandardScaler\n",
    "\n",
    "# Assuming you have a DataFrame named 'df' with your dataset\n",
    "# For example:\n",
    "# df = pd.read_csv('your_dataset.csv')\n",
    "\n",
    "# Replace 'ConvertedComp' with the actual name of the column you want to normalize\n",
    "column_name = 'ConvertedComp'\n",
    "\n",
    "# Create a StandardScaler instance\n",
    "scaler = StandardScaler()\n",
    "\n",
    "# Normalize the 'ConvertedComp' column and store it in the new 'NormalizedAnnualCompensation' column\n",
    "df['NormalizedAnnualCompensation'] = scaler.fit_transform(df[[column_name]])\n",
    "\n",
    "# View the resulting DataFrame with the new column\n",
    "print(df.head())\n"
   ]
  },
  {
   "cell_type": "markdown",
   "metadata": {},
   "source": [
    "## Authors\n"
   ]
  },
  {
   "cell_type": "markdown",
   "metadata": {},
   "source": [
    "Ramesh Sannareddy\n"
   ]
  },
  {
   "cell_type": "markdown",
   "metadata": {},
   "source": [
    "### Other Contributors\n"
   ]
  },
  {
   "cell_type": "markdown",
   "metadata": {},
   "source": [
    "Rav Ahuja\n"
   ]
  },
  {
   "cell_type": "markdown",
   "metadata": {},
   "source": [
    "## Change Log\n"
   ]
  },
  {
   "cell_type": "markdown",
   "metadata": {},
   "source": [
    "| Date (YYYY-MM-DD) | Version | Changed By        | Change Description                 |\n",
    "| ----------------- | ------- | ----------------- | ---------------------------------- |\n",
    "| 2023-07-29        | 0.1     |Wajahat Ali| Created initial version of the lab |\n"
   ]
  },
  {
   "cell_type": "markdown",
   "metadata": {},
   "source": [
    " Copyright © 2020 IBM Corporation. This notebook and its source code are released under the terms of the [MIT License](https://cognitiveclass.ai/mit-license?utm_medium=Exinfluencer&utm_source=Exinfluencer&utm_content=000026UJ&utm_term=10006555&utm_id=NA-SkillsNetwork-Channel-SkillsNetworkCoursesIBMDA0321ENSkillsNetwork928-2022-01-01&cm_mmc=Email_Newsletter-_-Developer_Ed%2BTech-_-WW_WW-_-SkillsNetwork-Courses-IBM-DA0321EN-SkillsNetwork-21426264&cm_mmca1=000026UJ&cm_mmca2=10006555&cm_mmca3=M12345678&cvosrc=email.Newsletter.M12345678&cvo_campaign=000026UJ).\n"
   ]
  }
 ],
 "metadata": {
  "kernelspec": {
   "display_name": "Python 3.10",
   "language": "python",
   "name": "python3"
  },
  "language_info": {
   "codemirror_mode": {
    "name": "ipython",
    "version": 3
   },
   "file_extension": ".py",
   "mimetype": "text/x-python",
   "name": "python",
   "nbconvert_exporter": "python",
   "pygments_lexer": "ipython3",
   "version": "3.10.9"
  }
 },
 "nbformat": 4,
 "nbformat_minor": 4
}
